{
 "cells": [
  {
   "cell_type": "code",
   "id": "initial_id",
   "metadata": {
    "collapsed": true
   },
   "source": "from transformer_lens import HookedTransformer",
   "outputs": [],
   "execution_count": null
  },
  {
   "metadata": {},
   "cell_type": "code",
   "source": [
    "model = HookedTransformer.from_pretrained('pythia-70m-deduped', checkpoint_index=0)\n",
    "print(model)"
   ],
   "id": "af3fd561b58a4a",
   "outputs": [],
   "execution_count": null
  },
  {
   "metadata": {},
   "cell_type": "code",
   "source": [
    "for i in range(5):\n",
    "    display(\n",
    "        model.generate(\n",
    "            'John and Mary were playing together. John said to',\n",
    "            stop_at_eos=False,\n",
    "            temperature=1.,\n",
    "            verbose=False,\n",
    "            max_new_tokens=50\n",
    "        )\n",
    "    )"
   ],
   "id": "b33303b1ed75b65d",
   "outputs": [],
   "execution_count": null
  },
  {
   "metadata": {},
   "cell_type": "code",
   "source": "",
   "id": "e3a64744e96c214f",
   "outputs": [],
   "execution_count": null
  }
 ],
 "metadata": {
  "kernelspec": {
   "display_name": "Python 3",
   "language": "python",
   "name": "python3"
  },
  "language_info": {
   "codemirror_mode": {
    "name": "ipython",
    "version": 2
   },
   "file_extension": ".py",
   "mimetype": "text/x-python",
   "name": "python",
   "nbconvert_exporter": "python",
   "pygments_lexer": "ipython2",
   "version": "2.7.6"
  }
 },
 "nbformat": 4,
 "nbformat_minor": 5
}
